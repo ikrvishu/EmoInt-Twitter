{
 "cells": [
  {
   "cell_type": "markdown",
   "metadata": {},
   "source": [
    "# Define evaluation logic"
   ]
  },
  {
   "cell_type": "code",
   "execution_count": null,
   "metadata": {},
   "outputs": [],
   "source": [
    "import time\n",
    "import json\n",
    "import pickle\n",
    "import re\n",
    "import html\n",
    "import sys\n",
    "import gc\n",
    "\n",
    "import gensim\n",
    "\n",
    "from sklearn.model_selection import RandomizedSearchCV\n",
    "from sklearn.preprocessing import PolynomialFeatures, scale\n",
    "from sklearn.ensemble import AdaBoostRegressor\n",
    "from xgboost import XGBRegressor\n",
    "\n",
    "import pandas as pd\n",
    "from pandas import DataFrame\n",
    "\n",
    "from scipy.stats import spearmanr, pearsonr\n",
    "import numpy as np\n",
    "\n",
    "import keras\n",
    "from keras.models import Sequential, Model\n",
    "from keras.layers import Dense, Dropout, Activation, Flatten, Embedding, Input\n",
    "from keras.layers.wrappers import Bidirectional\n",
    "from keras.wrappers.scikit_learn import KerasRegressor\n",
    "from keras.optimizers import SGD, Adagrad\n",
    "from keras.layers.convolutional import Conv1D\n",
    "from keras.layers.pooling import MaxPooling1D, GlobalMaxPooling1D, AveragePooling1D\n",
    "from keras.layers.normalization import BatchNormalization\n",
    "from keras.layers.recurrent import LSTM, GRU\n",
    "from keras.preprocessing import sequence\n",
    "from keras.preprocessing.text import Tokenizer\n",
    "from keras.preprocessing.sequence import pad_sequences\n",
    "\n",
    "from nltk import word_tokenize\n",
    "from nltk import bigrams\n",
    "from nltk.corpus import stopwords\n",
    "from nltk.stem.wordnet import WordNetLemmatizer\n",
    "from nltk.corpus import sentiwordnet as swn\n",
    "from nltk.tokenize.casual import TweetTokenizer\n",
    "\n",
    "from IPython.display import display, HTML"
   ]
  },
  {
   "cell_type": "code",
   "execution_count": null,
   "metadata": {
    "collapsed": true
   },
   "outputs": [],
   "source": [
    "def browser_alert(message):\n",
    "    display(HTML('<script type=\"text/javascript\">alert(\"' + message + '\");</script>'))\n",
    "    \n",
    "def browser_notify(message):\n",
    "    display(HTML('<script type=\"text/javascript\">var notification=new Notification(\"Jupyter Notification\",{icon:\"http://blog.jupyter.org/content/images/2015/02/jupyter-sq-text.png\",body:\"' + message + '\"});</script>'))"
   ]
  },
  {
   "cell_type": "code",
   "execution_count": null,
   "metadata": {
    "collapsed": true
   },
   "outputs": [],
   "source": [
    "word_vector_path = \"/home/v2john/\"\n",
    "wassa_home = \"/home/v2john/WASSA-Task/\""
   ]
  },
  {
   "cell_type": "markdown",
   "metadata": {},
   "source": [
    "## Word2Vec + GloVe"
   ]
  },
  {
   "cell_type": "code",
   "execution_count": null,
   "metadata": {
    "collapsed": true
   },
   "outputs": [],
   "source": [
    "def loadGloveModel(gloveFile):\n",
    "    print(\"Loading Glove Model\")\n",
    "    f = open(gloveFile,'r')\n",
    "    model = {}\n",
    "    num = 1\n",
    "    for line in f:\n",
    "        try:\n",
    "            splitLine = line.split()\n",
    "            word = splitLine[0]\n",
    "            embedding = [float(val) for val in splitLine[1:]]\n",
    "            model[word] = np.array(embedding)\n",
    "            num += 1\n",
    "        except Exception as e:\n",
    "            print(\"Failed at line \" + str(num))\n",
    "    print(\"Done.\",len(model),\" words loaded!\")\n",
    "    return model"
   ]
  },
  {
   "cell_type": "code",
   "execution_count": null,
   "metadata": {},
   "outputs": [],
   "source": [
    "# Google news pretrained vectors\n",
    "wv_model_path = word_vector_path + \"GoogleNews-vectors-negative300.bin.gz\"\n",
    "wv_model = gensim.models.KeyedVectors.load_word2vec_format(wv_model_path, binary=True, unicode_errors='ignore')"
   ]
  },
  {
   "cell_type": "code",
   "execution_count": null,
   "metadata": {
    "collapsed": true
   },
   "outputs": [],
   "source": [
    "# Twitter pretrained vectors\n",
    "wv_model_path_1 = word_vector_path + \"word2vec_twitter_model.bin\"\n",
    "wv_model_1 = gensim.models.KeyedVectors.load_word2vec_format(wv_model_path_1, binary=True, unicode_errors='ignore')"
   ]
  },
  {
   "cell_type": "code",
   "execution_count": null,
   "metadata": {},
   "outputs": [],
   "source": [
    "wv_model_path_2 = word_vector_path + \"glove.twitter.27B.200d.txt\"\n",
    "wv_model_2 = loadGloveModel(wv_model_path_2)"
   ]
  },
  {
   "cell_type": "code",
   "execution_count": null,
   "metadata": {},
   "outputs": [],
   "source": [
    "wv_model_path_3 = word_vector_path + \"glove.6B.300d.txt\"\n",
    "wv_model_3 = loadGloveModel(wv_model_path_3)"
   ]
  },
  {
   "cell_type": "code",
   "execution_count": null,
   "metadata": {},
   "outputs": [],
   "source": [
    "wv_model_path_4 = word_vector_path + \"glove.42B.300d.txt\"\n",
    "wv_model_4 = loadGloveModel(wv_model_path_4)"
   ]
  },
  {
   "cell_type": "code",
   "execution_count": null,
   "metadata": {},
   "outputs": [],
   "source": [
    "wv_model_path_5 = word_vector_path + \"glove.840B.300d.txt\"\n",
    "wv_model_5 = loadGloveModel(wv_model_path_5)"
   ]
  },
  {
   "cell_type": "code",
   "execution_count": null,
   "metadata": {},
   "outputs": [],
   "source": [
    "w2v_dimensions = len(wv_model['word'])\n",
    "w2v_dimensions_1 = len(wv_model_1['word'])\n",
    "w2v_dimensions_2 = len(wv_model_2['word'])\n",
    "w2v_dimensions_3 = len(wv_model_3['word'])\n",
    "w2v_dimensions_4 = len(wv_model_4['word'])\n",
    "w2v_dimensions_5 = len(wv_model_5['word'])\n",
    "\n",
    "print(w2v_dimensions, w2v_dimensions_1, w2v_dimensions_2, w2v_dimensions_3, w2v_dimensions_4, w2v_dimensions_5)"
   ]
  },
  {
   "cell_type": "code",
   "execution_count": null,
   "metadata": {
    "collapsed": true
   },
   "outputs": [],
   "source": [
    "def get_word2vec_embedding(word, model, dimensions):\n",
    "\n",
    "    vec_rep = np.zeros(dimensions)\n",
    "    if word in model:\n",
    "        vec_rep = model[word]\n",
    "    \n",
    "    return vec_rep"
   ]
  },
  {
   "cell_type": "code",
   "execution_count": null,
   "metadata": {
    "collapsed": true
   },
   "outputs": [],
   "source": [
    "# get_word2vec_embedding(\"charm\", wv_model_2, 200)"
   ]
  },
  {
   "cell_type": "markdown",
   "metadata": {},
   "source": [
    "# Data Cleaning"
   ]
  },
  {
   "cell_type": "code",
   "execution_count": null,
   "metadata": {
    "collapsed": true
   },
   "outputs": [],
   "source": [
    "wnl = WordNetLemmatizer()\n",
    "tknzr = TweetTokenizer()"
   ]
  },
  {
   "cell_type": "code",
   "execution_count": null,
   "metadata": {
    "collapsed": true
   },
   "outputs": [],
   "source": [
    "def remove_stopwords(string):\n",
    "    split_string = \\\n",
    "        [word for word in string.split()\n",
    "         if word not in stopwords.words('english')]\n",
    "    \n",
    "    return \" \".join(split_string)"
   ]
  },
  {
   "cell_type": "code",
   "execution_count": null,
   "metadata": {
    "collapsed": true
   },
   "outputs": [],
   "source": [
    "def clean_str(string):  \n",
    "    string = html.unescape(string)\n",
    "    string = string.replace(\"\\\\n\", \" \")\n",
    "    string = string.replace(\"_NEG\", \"\")\n",
    "    string = string.replace(\"_NEGFIRST\", \"\")\n",
    "    string = re.sub(r\"@[A-Za-z0-9_(),!?\\'\\`]+\", \" \", string) # removing any twitter handle mentions\n",
    "    string = re.sub(r\"\\d+\", \" \", string) # removing any words with numbers\n",
    "    string = re.sub(r\"_\", \" \", string)\n",
    "    string = re.sub(r\":\", \" \", string)\n",
    "    string = re.sub(r\"/\", \" \", string)\n",
    "    string = re.sub(r\"#\", \" \", string)\n",
    "    string = re.sub(r\"\\.\", \" \", string)\n",
    "    string = re.sub(r\"\\*\", \" \", string)\n",
    "    string = re.sub(r\"\\'s\", \" \", string)\n",
    "    string = re.sub(r\"\\'m\", \" am\", string)\n",
    "    string = re.sub(r\"\\'ve\", \" have\", string)\n",
    "    string = re.sub(r\"n\\'t\", \" not\", string)\n",
    "    string = re.sub(r\"n\\’t\", \" not\", string)\n",
    "    string = re.sub(r\"\\'re\", \" are\", string)\n",
    "    string = re.sub(r\"\\’re\", \" are\", string)\n",
    "    string = re.sub(r\"\\'d\", \" would\", string)\n",
    "    string = re.sub(r\"\\’d\", \" would\", string)\n",
    "    string = re.sub(r\"\\'ll\", \" will\", string)\n",
    "    string = re.sub(r\"\\’ll\", \" will\", string)\n",
    "    string = re.sub(r\"'\", \" \", string)\n",
    "    string = re.sub(r\",\", \"\", string)\n",
    "    string = re.sub(r\"!\", \" !\", string)\n",
    "    string = re.sub(r\"\\(\", \"\", string)\n",
    "    string = re.sub(r\"\\)\", \"\", string)\n",
    "    string = re.sub(r\"\\?\", \" ?\", string)\n",
    "    string = re.sub(r\"-\", \" \", string)\n",
    "    string = re.sub(r\"<\", \" \", string)\n",
    "    string = re.sub(r\">\", \" \", string)\n",
    "    string = re.sub(r\";\", \" \", string)\n",
    "    string = re.sub(r\"\\s{2,}\", \" \", string)\n",
    "\n",
    "    return remove_stopwords(string.strip().lower())"
   ]
  },
  {
   "cell_type": "markdown",
   "metadata": {},
   "source": [
    "# Metadata and Class Definitions"
   ]
  },
  {
   "cell_type": "code",
   "execution_count": null,
   "metadata": {
    "collapsed": true
   },
   "outputs": [],
   "source": [
    "class Tweet(object):\n",
    "\n",
    "    def __init__(self, id, text, emotion, intensity):\n",
    "        self.id = id\n",
    "        self.text = text\n",
    "        self.emotion = emotion\n",
    "        self.intensity = intensity\n",
    "\n",
    "    def __repr__(self):\n",
    "        return \\\n",
    "            \"id: \" + self.id + \\\n",
    "            \", text: \" + self.text + \\\n",
    "            \", emotion: \" + self.emotion + \\\n",
    "            \", intensity: \" + self.intensity"
   ]
  },
  {
   "cell_type": "code",
   "execution_count": null,
   "metadata": {
    "collapsed": true
   },
   "outputs": [],
   "source": [
    "def read_training_data(training_data_file_path):\n",
    "\n",
    "    train_list = list()\n",
    "    with open(training_data_file_path) as input_file:\n",
    "        for line in input_file:\n",
    "            line = line.strip()\n",
    "            array = line.split('\\t')\n",
    "            train_list.append(Tweet(array[0], list(tknzr.tokenize(clean_str(array[1]))), \n",
    "                                    array[2], float(array[3])))\n",
    "    return train_list\n",
    "            \n",
    "def read_training_data_verbatim(training_data_file_path):\n",
    "\n",
    "    train_list = list()\n",
    "    with open(training_data_file_path) as input_file:\n",
    "        for line in input_file:\n",
    "            line = line.strip()\n",
    "            array = line.split('\\t')\n",
    "            train_list.append(Tweet(array[0], array[1], array[2], float(array[3])))\n",
    "    return train_list\n",
    "    \n",
    "def read_test_data(training_data_file_path):\n",
    "\n",
    "    test_list = list()\n",
    "    with open(training_data_file_path) as input_file:\n",
    "        for line in input_file:\n",
    "            line = line.strip()\n",
    "            array = line.split('\\t')\n",
    "            test_list.append(Tweet(array[0], clean_str(array[1]), array[2], None))\n",
    "    return test_list"
   ]
  },
  {
   "cell_type": "code",
   "execution_count": null,
   "metadata": {
    "collapsed": true
   },
   "outputs": [],
   "source": [
    "non_linear_factor = PolynomialFeatures(3)"
   ]
  },
  {
   "cell_type": "code",
   "execution_count": null,
   "metadata": {
    "collapsed": true
   },
   "outputs": [],
   "source": [
    "emotion = \"anger\""
   ]
  },
  {
   "cell_type": "code",
   "execution_count": null,
   "metadata": {
    "collapsed": true
   },
   "outputs": [],
   "source": [
    "training_data_file_path = \\\n",
    "    wassa_home + \"dataset/\" + \\\n",
    "    emotion + \"-ratings-0to1.train.txt\"\n",
    "predictions_file_path = \\\n",
    "    wassa_home + \"predictions/\" + \\\n",
    "    emotion + \"-pred.txt\"\n",
    "dev_set_path = \\\n",
    "    wassa_home + \"dataset/dev-set/\" + \\\n",
    "    emotion + \"-ratings-0to1.dev.gold.txt\"\n",
    "test_data_file_path = \\\n",
    "    wassa_home + \"dataset/test-set/\" + \\\n",
    "    emotion + \"-ratings-0to1.test.gold.txt\"\n",
    "debug_file_path = \\\n",
    "    wassa_home + \"dataset/test-set/debug/\" + \\\n",
    "    emotion + \".tsv\"\n",
    "word_embeddings_path = \"/home/v2john/\" + emotion + \"-word-embeddings.pkl\""
   ]
  },
  {
   "cell_type": "markdown",
   "metadata": {},
   "source": [
    "# Feature Extraction Snippets"
   ]
  },
  {
   "cell_type": "markdown",
   "metadata": {},
   "source": [
    "## Emoji Intensity"
   ]
  },
  {
   "cell_type": "code",
   "execution_count": null,
   "metadata": {
    "collapsed": true
   },
   "outputs": [],
   "source": [
    "with open(wassa_home + 'lexicons/emoji_map.json') as emoji_file:\n",
    "    emoji_list = json.load(emoji_file)\n",
    "    \n",
    "emoji_dict = dict()\n",
    "\n",
    "for emoji in emoji_list:\n",
    "    emoji_dict[emoji[\"emoji\"]] = (emoji[\"name\"], emoji[\"polarity\"])"
   ]
  },
  {
   "cell_type": "code",
   "execution_count": null,
   "metadata": {
    "collapsed": true
   },
   "outputs": [],
   "source": [
    "def get_emoji_intensity(word):\n",
    "    \n",
    "    score = 0.0\n",
    "    if word in emoji_dict.keys():\n",
    "        score = float(emoji_dict[word][1])\n",
    "    \n",
    "    vec_rep = np.array(score)\n",
    "    \n",
    "    return non_linear_factor.fit_transform([vec_rep])[0]"
   ]
  },
  {
   "cell_type": "code",
   "execution_count": null,
   "metadata": {},
   "outputs": [],
   "source": [
    "get_emoji_intensity(\"💯\")"
   ]
  },
  {
   "cell_type": "markdown",
   "metadata": {},
   "source": [
    "## Emotion Intensity Lexicon"
   ]
  },
  {
   "cell_type": "code",
   "execution_count": null,
   "metadata": {
    "collapsed": true
   },
   "outputs": [],
   "source": [
    "affect_intensity_file_path = \\\n",
    "    wassa_home + \\\n",
    "    \"lexicons/NRC-AffectIntensity-Lexicon.txt\"\n",
    "    \n",
    "def get_word_affect_intensity_dict(emotion):\n",
    "    word_intensities = dict()\n",
    "\n",
    "    with open(affect_intensity_file_path) as affect_intensity_file:\n",
    "        for line in affect_intensity_file:\n",
    "            word_int_array = line.replace(\"\\n\", \"\").split(\"\\t\")\n",
    "\n",
    "            if (word_int_array[2] == emotion):\n",
    "                word_intensities[word_int_array[0]] = float(word_int_array[1])\n",
    "\n",
    "    return word_intensities"
   ]
  },
  {
   "cell_type": "code",
   "execution_count": null,
   "metadata": {
    "collapsed": true
   },
   "outputs": [],
   "source": [
    "word_intensities = get_word_affect_intensity_dict(emotion)"
   ]
  },
  {
   "cell_type": "code",
   "execution_count": null,
   "metadata": {
    "collapsed": true
   },
   "outputs": [],
   "source": [
    "def get_emo_int_vector(word):\n",
    "    \n",
    "    score = 0.0\n",
    "    if word in word_intensities.keys():\n",
    "        score = float(word_intensities[word])\n",
    "        \n",
    "    vec_rep = np.array([score])\n",
    "    \n",
    "    return non_linear_factor.fit_transform([vec_rep])[0]"
   ]
  },
  {
   "cell_type": "code",
   "execution_count": null,
   "metadata": {
    "collapsed": true
   },
   "outputs": [],
   "source": [
    "# get_emo_int_vector('fury')"
   ]
  },
  {
   "cell_type": "markdown",
   "metadata": {},
   "source": [
    "## SentiWordNet "
   ]
  },
  {
   "cell_type": "code",
   "execution_count": null,
   "metadata": {
    "collapsed": true
   },
   "outputs": [],
   "source": [
    "def get_sentiwordnetscore(word):\n",
    "    \n",
    "    vec_rep = np.zeros(2)\n",
    "    \n",
    "    synsetlist = list(swn.senti_synsets(word))\n",
    "\n",
    "    if synsetlist:\n",
    "        vec_rep[0] = synsetlist[0].pos_score()\n",
    "        vec_rep[1] = synsetlist[0].neg_score()\n",
    "\n",
    "    return non_linear_factor.fit_transform([vec_rep])[0]"
   ]
  },
  {
   "cell_type": "code",
   "execution_count": null,
   "metadata": {
    "collapsed": true
   },
   "outputs": [],
   "source": [
    "# get_sentiwordnetscore(\"fury\")"
   ]
  },
  {
   "cell_type": "markdown",
   "metadata": {},
   "source": [
    "## Sentiment Emotion Presence Lexicon"
   ]
  },
  {
   "cell_type": "code",
   "execution_count": null,
   "metadata": {
    "collapsed": true
   },
   "outputs": [],
   "source": [
    "sentiment_emotion_lex_file_path = \\\n",
    "    wassa_home + \\\n",
    "    \"lexicons/NRC-Sentiment-Emotion-Lexicons/Lexicons/NRC-Emotion-Lexicon-v0.92/\" + \\\n",
    "    \"NRC-Emotion-Lexicon-Wordlevel-v0.92.txt\"\n",
    "\n",
    "def get_affect_presence_list(emotion):\n",
    "    word_list = list()\n",
    "    \n",
    "    with open(sentiment_emotion_lex_file_path) as sentiment_emotion_lex_file:\n",
    "        for line in sentiment_emotion_lex_file:\n",
    "            word_array = line.replace(\"\\n\", \"\").split(\"\\t\")\n",
    "\n",
    "            if (word_array[1] == emotion and word_array[2] == '1'):\n",
    "                word_list.append(word_array[0])\n",
    "                \n",
    "    return word_list"
   ]
  },
  {
   "cell_type": "code",
   "execution_count": null,
   "metadata": {
    "collapsed": true
   },
   "outputs": [],
   "source": [
    "sentiment_emotion_lex_word_list = get_affect_presence_list(emotion)"
   ]
  },
  {
   "cell_type": "code",
   "execution_count": null,
   "metadata": {
    "collapsed": true
   },
   "outputs": [],
   "source": [
    "def get_sentiment_emotion_feature(word):\n",
    "    \n",
    "    score = 0.0\n",
    "    if word in sentiment_emotion_lex_word_list:\n",
    "        score = 1.0\n",
    "    vec_rep = np.array([score])\n",
    "    \n",
    "    return non_linear_factor.fit_transform([vec_rep])[0]"
   ]
  },
  {
   "cell_type": "code",
   "execution_count": null,
   "metadata": {
    "collapsed": true
   },
   "outputs": [],
   "source": [
    "# get_sentiment_emotion_feature(\"fury\")"
   ]
  },
  {
   "cell_type": "markdown",
   "metadata": {},
   "source": [
    "## Hashtag Emotion Intensity"
   ]
  },
  {
   "cell_type": "code",
   "execution_count": null,
   "metadata": {
    "collapsed": true
   },
   "outputs": [],
   "source": [
    "hashtag_emotion_lex_file_path = \\\n",
    "    wassa_home + \\\n",
    "    \"lexicons/NRC-Sentiment-Emotion-Lexicons/Lexicons/NRC-Hashtag-Emotion-Lexicon-v0.2/\" + \\\n",
    "    \"NRC-Hashtag-Emotion-Lexicon-v0.2.txt\"\n",
    "    \n",
    "def get_hashtag_emotion_intensity(emotion):\n",
    "    hastag_intensities = dict()\n",
    "    \n",
    "    with open(hashtag_emotion_lex_file_path) as hashtag_emotion_lex_file:\n",
    "        for line in hashtag_emotion_lex_file:\n",
    "            word_array = line.replace(\"\\n\", \"\").split(\"\\t\")\n",
    "            if (word_array[0] == emotion):\n",
    "                hastag_intensities[word_array[1]] = float(word_array[2])\n",
    "                \n",
    "    return hastag_intensities"
   ]
  },
  {
   "cell_type": "code",
   "execution_count": null,
   "metadata": {
    "collapsed": true
   },
   "outputs": [],
   "source": [
    "hashtag_emotion_intensities = get_hashtag_emotion_intensity(emotion)"
   ]
  },
  {
   "cell_type": "code",
   "execution_count": null,
   "metadata": {
    "collapsed": true
   },
   "outputs": [],
   "source": [
    "def get_hashtag_emotion_vector(word):\n",
    "    \n",
    "    score = 0.0\n",
    "    \n",
    "    if word in hashtag_emotion_intensities.keys():\n",
    "        score = float(hashtag_emotion_intensities[word])\n",
    "        \n",
    "    vec_rep = np.array([score])\n",
    "            \n",
    "    return non_linear_factor.fit_transform([vec_rep])[0]"
   ]
  },
  {
   "cell_type": "code",
   "execution_count": null,
   "metadata": {
    "collapsed": true
   },
   "outputs": [],
   "source": [
    "# get_hashtag_emotion_vector(\"#fury\")"
   ]
  },
  {
   "cell_type": "markdown",
   "metadata": {},
   "source": [
    "## Emoticon Sentiment Lexicon"
   ]
  },
  {
   "cell_type": "code",
   "execution_count": null,
   "metadata": {
    "collapsed": true
   },
   "outputs": [],
   "source": [
    "emoticon_lexicon_unigrams_file_path = \\\n",
    "    wassa_home + \\\n",
    "    \"lexicons/NRC-Sentiment-Emotion-Lexicons/Lexicons/NRC-Emoticon-Lexicon-v1.0/Emoticon-unigrams.txt\"\n",
    "emoticon_lexicon_bigrams_file_path = \\\n",
    "    wassa_home + \\\n",
    "    \"lexicons/NRC-Sentiment-Emotion-Lexicons/Lexicons/NRC-Emoticon-Lexicon-v1.0/Emoticon-bigrams.txt\"\n",
    "    \n",
    "emoticon_lexicon_unigrams = dict()\n",
    "emoticon_lexicon_bigrams = dict()\n",
    "\n",
    "def get_emoticon_lexicon_unigram_dict():\n",
    "    with open(emoticon_lexicon_unigrams_file_path) as emoticon_lexicon_file:\n",
    "        for line in emoticon_lexicon_file:\n",
    "            word_array = line.replace(\"\\n\", \"\").split(\"\\t\")\n",
    "            emoticon_lexicon_unigrams[word_array[0]] = np.array([float(val) for val in word_array[1:]])\n",
    "    \n",
    "    return emoticon_lexicon_unigrams\n",
    "\n",
    "def get_emoticon_lexicon_bigram_dict():\n",
    "    with open(emoticon_lexicon_bigrams_file_path) as emoticon_lexicon_file:\n",
    "        for line in emoticon_lexicon_file:\n",
    "            word_array = line.replace(\"\\n\", \"\").split(\"\\t\")\n",
    "            emoticon_lexicon_bigrams[word_array[0]] = np.array([float(val) for val in word_array[1:]])\n",
    "    \n",
    "    return emoticon_lexicon_bigrams"
   ]
  },
  {
   "cell_type": "code",
   "execution_count": null,
   "metadata": {
    "collapsed": true
   },
   "outputs": [],
   "source": [
    "emoticon_lexicon_unigram_dict = get_emoticon_lexicon_unigram_dict()"
   ]
  },
  {
   "cell_type": "code",
   "execution_count": null,
   "metadata": {
    "collapsed": true
   },
   "outputs": [],
   "source": [
    "emoticon_lexicon_bigram_dict = get_emoticon_lexicon_bigram_dict()"
   ]
  },
  {
   "cell_type": "code",
   "execution_count": null,
   "metadata": {
    "collapsed": true
   },
   "outputs": [],
   "source": [
    "def get_unigram_sentiment_emoticon_lexicon_vector(word):\n",
    "    \n",
    "    vec_rep = np.zeros(3)\n",
    "    if word in emoticon_lexicon_unigram_dict.keys():\n",
    "        vec_rep = emoticon_lexicon_unigram_dict[word]\n",
    "        \n",
    "    return non_linear_factor.fit_transform([vec_rep])[0]\n",
    "\n",
    "def get_bigram_sentiment_emoticon_lexicon_vector(word):\n",
    "    \n",
    "    vec_rep = np.zeros(3)\n",
    "    if word in emoticon_lexicon_bigram_dict.keys():\n",
    "        vec_rep = emoticon_lexicon_bigram_dict[word]\n",
    "        \n",
    "    return non_linear_factor.fit_transform([vec_rep])[0]"
   ]
  },
  {
   "cell_type": "code",
   "execution_count": null,
   "metadata": {},
   "outputs": [],
   "source": [
    "get_unigram_sentiment_emoticon_lexicon_vector(\"fury\")"
   ]
  },
  {
   "cell_type": "code",
   "execution_count": null,
   "metadata": {},
   "outputs": [],
   "source": [
    "get_bigram_sentiment_emoticon_lexicon_vector(\"add everyone\")"
   ]
  },
  {
   "cell_type": "markdown",
   "metadata": {},
   "source": [
    "## Emoticon Sentiment Aff-Neg Lexicon"
   ]
  },
  {
   "cell_type": "code",
   "execution_count": null,
   "metadata": {
    "collapsed": true
   },
   "outputs": [],
   "source": [
    "emoticon_afflex_unigrams_file_path = \\\n",
    "    wassa_home + \\\n",
    "    \"lexicons/NRC-Sentiment-Emotion-Lexicons/Lexicons/NRC-Emoticon-AffLexNegLex-v1.0/\" + \\\n",
    "    \"Emoticon-AFFLEX-NEGLEX-unigrams.txt\"\n",
    "emoticon_afflex_bigrams_file_path = \\\n",
    "    wassa_home + \\\n",
    "    \"lexicons/NRC-Sentiment-Emotion-Lexicons/Lexicons/NRC-Emoticon-AffLexNegLex-v1.0/\" + \\\n",
    "    \"Emoticon-AFFLEX-NEGLEX-bigrams.txt\"\n",
    "    \n",
    "emoticon_afflex_unigrams = dict()\n",
    "emoticon_afflex_bigrams = dict()\n",
    "\n",
    "def get_emoticon_afflex_unigram_dict():\n",
    "    with open(emoticon_afflex_unigrams_file_path) as emoticon_lexicon_file:\n",
    "        for line in emoticon_lexicon_file:\n",
    "            word_array = line.replace(\"\\n\", \"\").split(\"\\t\")\n",
    "            emoticon_afflex_unigrams[word_array[0]] = np.array([float(val) for val in word_array[1:]])\n",
    "    \n",
    "    return emoticon_afflex_unigrams\n",
    "\n",
    "def get_emoticon_afflex_bigram_dict():\n",
    "    with open(emoticon_afflex_bigrams_file_path) as emoticon_lexicon_file:\n",
    "        for line in emoticon_lexicon_file:\n",
    "            word_array = line.replace(\"\\n\", \"\").split(\"\\t\")\n",
    "            emoticon_afflex_bigrams[word_array[0]] = np.array([float(val) for val in word_array[1:]])\n",
    "    \n",
    "    return emoticon_afflex_bigrams"
   ]
  },
  {
   "cell_type": "code",
   "execution_count": null,
   "metadata": {
    "collapsed": true
   },
   "outputs": [],
   "source": [
    "emoticon_afflex_unigram_dict = get_emoticon_afflex_unigram_dict()"
   ]
  },
  {
   "cell_type": "code",
   "execution_count": null,
   "metadata": {
    "collapsed": true
   },
   "outputs": [],
   "source": [
    "emoticon_afflex_bigram_dict = get_emoticon_afflex_bigram_dict()"
   ]
  },
  {
   "cell_type": "code",
   "execution_count": null,
   "metadata": {
    "collapsed": true
   },
   "outputs": [],
   "source": [
    "def get_unigram_sentiment_emoticon_afflex_vector(word):\n",
    "    \n",
    "    vec_rep = np.zeros(3)\n",
    "    if word in emoticon_afflex_unigram_dict.keys():\n",
    "        vec_rep = emoticon_afflex_unigram_dict[word]\n",
    "        \n",
    "    return non_linear_factor.fit_transform([vec_rep])[0]\n",
    "\n",
    "def get_bigram_sentiment_emoticon_afflex_vector(word):\n",
    "    \n",
    "    vec_rep = np.zeros(3)\n",
    "    if word in emoticon_afflex_bigram_dict.keys():\n",
    "        vec_rep = emoticon_afflex_bigram_dict[word]\n",
    "    \n",
    "    return non_linear_factor.fit_transform([vec_rep])[0]"
   ]
  },
  {
   "cell_type": "code",
   "execution_count": null,
   "metadata": {},
   "outputs": [],
   "source": [
    "get_unigram_sentiment_emoticon_afflex_vector(\"fury\")"
   ]
  },
  {
   "cell_type": "code",
   "execution_count": null,
   "metadata": {
    "collapsed": true
   },
   "outputs": [],
   "source": [
    "# get_bigram_sentiment_emoticon_afflex_vector(\"pay vip\")"
   ]
  },
  {
   "cell_type": "markdown",
   "metadata": {},
   "source": [
    "## Hashtag Sentiment Aff-Neg Lexicon"
   ]
  },
  {
   "cell_type": "code",
   "execution_count": null,
   "metadata": {
    "collapsed": true
   },
   "outputs": [],
   "source": [
    "hashtag_affneglex_unigrams_file_path = \\\n",
    "    wassa_home + \\\n",
    "    \"lexicons/NRC-Sentiment-Emotion-Lexicons/Lexicons/NRC-Hashtag-Sentiment-AffLexNegLex-v1.0/\" + \\\n",
    "    \"HS-AFFLEX-NEGLEX-unigrams.txt\"\n",
    "hashtag_affneglex_bigrams_file_path = \\\n",
    "    wassa_home + \\\n",
    "    \"lexicons/NRC-Sentiment-Emotion-Lexicons/Lexicons/NRC-Hashtag-Sentiment-AffLexNegLex-v1.0/\" + \\\n",
    "    \"HS-AFFLEX-NEGLEX-bigrams.txt\"\n",
    "    \n",
    "hashtag_affneglex_unigrams = dict()\n",
    "hashtag_affneglex_bigrams = dict()\n",
    "\n",
    "def get_hashtag_affneglex_unigram_dict():\n",
    "    with open(hashtag_affneglex_unigrams_file_path) as hashtag_sent_lex_file:\n",
    "        for line in hashtag_sent_lex_file:\n",
    "            word_array = line.replace(\"\\n\", \"\").split(\"\\t\")\n",
    "            hashtag_affneglex_unigrams[word_array[0]] = np.array([float(val) for val in word_array[1:]])\n",
    "    \n",
    "    return hashtag_affneglex_unigrams\n",
    "\n",
    "def get_hashtag_affneglex_bigram_dict():\n",
    "    with open(hashtag_affneglex_bigrams_file_path) as hashtag_sent_lex_file:\n",
    "        for line in hashtag_sent_lex_file:\n",
    "            word_array = line.replace(\"\\n\", \"\").split(\"\\t\")\n",
    "            hashtag_affneglex_bigrams[word_array[0]] = np.array([float(val) for val in word_array[1:]])\n",
    "\n",
    "    return hashtag_affneglex_bigrams"
   ]
  },
  {
   "cell_type": "code",
   "execution_count": null,
   "metadata": {
    "collapsed": true
   },
   "outputs": [],
   "source": [
    "hashtag_affneglex_unigram_dict = get_hashtag_affneglex_unigram_dict()"
   ]
  },
  {
   "cell_type": "code",
   "execution_count": null,
   "metadata": {
    "collapsed": true
   },
   "outputs": [],
   "source": [
    "hashtag_affneglex_bigram_dict = get_hashtag_affneglex_bigram_dict()"
   ]
  },
  {
   "cell_type": "code",
   "execution_count": null,
   "metadata": {
    "collapsed": true
   },
   "outputs": [],
   "source": [
    "def get_unigram_sentiment_hashtag_affneglex_vector(word):\n",
    "    \n",
    "    vec_rep = np.zeros(3)\n",
    "    if word in hashtag_affneglex_unigram_dict.keys():\n",
    "        vec_rep = hashtag_affneglex_unigram_dict[word]\n",
    "        \n",
    "    return non_linear_factor.fit_transform([vec_rep])[0]\n",
    "\n",
    "def get_bigram_sentiment_hashtag_affneglex_vector(word):\n",
    "    \n",
    "    vec_rep = np.zeros(3)\n",
    "    if word in hashtag_affneglex_bigram_dict.keys():\n",
    "        vec_rep = hashtag_affneglex_bigram_dict[word]\n",
    "        \n",
    "    return non_linear_factor.fit_transform([vec_rep])[0]"
   ]
  },
  {
   "cell_type": "code",
   "execution_count": null,
   "metadata": {},
   "outputs": [],
   "source": [
    "get_unigram_sentiment_hashtag_affneglex_vector(\"#great\")"
   ]
  },
  {
   "cell_type": "code",
   "execution_count": null,
   "metadata": {},
   "outputs": [],
   "source": [
    "get_bigram_sentiment_hashtag_affneglex_vector(\"#good luck\")"
   ]
  },
  {
   "cell_type": "markdown",
   "metadata": {},
   "source": [
    "## Hashtag Sentiment Lexicon"
   ]
  },
  {
   "cell_type": "code",
   "execution_count": null,
   "metadata": {
    "collapsed": true
   },
   "outputs": [],
   "source": [
    "hash_sent_lex_unigrams_file_path = \\\n",
    "    wassa_home + \\\n",
    "    \"lexicons/NRC-Sentiment-Emotion-Lexicons/Lexicons/NRC-Hashtag-Sentiment-Lexicon-v1.0/HS-unigrams.txt\"\n",
    "hash_sent_lex_bigrams_file_path = \\\n",
    "    wassa_home + \\\n",
    "    \"lexicons/NRC-Sentiment-Emotion-Lexicons/Lexicons/NRC-Hashtag-Sentiment-Lexicon-v1.0/HS-bigrams.txt\"\n",
    "\n",
    "def get_hash_sent_lex_unigram_dict():\n",
    "    \n",
    "    hash_sent_lex_unigrams = dict()\n",
    "    with open(hash_sent_lex_unigrams_file_path) as hash_sent_lex_file:\n",
    "        for line in hash_sent_lex_file:\n",
    "            word_array = line.replace(\"\\n\", \"\").split(\"\\t\")\n",
    "            if clean_str(word_array[0]):\n",
    "                hash_sent_lex_unigrams[word_array[0]] = np.array([float(val) for val in word_array[1:]])\n",
    "    \n",
    "    return hash_sent_lex_unigrams\n",
    "\n",
    "def get_hash_sent_lex_bigram_dict():\n",
    "\n",
    "    hash_sent_lex_bigrams = dict()\n",
    "    with open(hash_sent_lex_bigrams_file_path) as hash_sent_lex_file:\n",
    "        for line in hash_sent_lex_file:\n",
    "            word_array = line.replace(\"\\n\", \"\").split(\"\\t\")\n",
    "            if clean_str(word_array[0]):\n",
    "                hash_sent_lex_bigrams[word_array[0]] = np.array([float(val) for val in word_array[1:]])\n",
    "    \n",
    "    return hash_sent_lex_bigrams"
   ]
  },
  {
   "cell_type": "code",
   "execution_count": null,
   "metadata": {
    "collapsed": true
   },
   "outputs": [],
   "source": [
    "hash_sent_lex_unigram_dict = get_hash_sent_lex_unigram_dict()"
   ]
  },
  {
   "cell_type": "code",
   "execution_count": null,
   "metadata": {
    "collapsed": true
   },
   "outputs": [],
   "source": [
    "hash_sent_lex_bigram_dict = get_hash_sent_lex_bigram_dict()"
   ]
  },
  {
   "cell_type": "code",
   "execution_count": null,
   "metadata": {
    "collapsed": true
   },
   "outputs": [],
   "source": [
    "def get_unigram_sentiment_hash_sent_lex_vector(word):\n",
    "    \n",
    "    vec_rep = np.zeros(3)\n",
    "    if word in hash_sent_lex_unigram_dict.keys():\n",
    "        vec_rep = hash_sent_lex_unigram_dict[word]\n",
    "        \n",
    "    return non_linear_factor.fit_transform([vec_rep])[0]\n",
    "\n",
    "\n",
    "def get_bigram_sentiment_hash_sent_lex_vector(word):\n",
    "\n",
    "    vec_rep = np.zeros(3)\n",
    "    if word in hash_sent_lex_bigram_dict.keys():\n",
    "        vec_rep = hash_sent_lex_bigram_dict[word]\n",
    "            \n",
    "    return non_linear_factor.fit_transform([vec_rep])[0]"
   ]
  },
  {
   "cell_type": "code",
   "execution_count": null,
   "metadata": {
    "collapsed": true
   },
   "outputs": [],
   "source": [
    "# get_unigram_sentiment_hash_sent_lex_vector(\"#fabulous\")"
   ]
  },
  {
   "cell_type": "code",
   "execution_count": null,
   "metadata": {
    "collapsed": true
   },
   "outputs": [],
   "source": [
    "# get_bigram_sentiment_hash_sent_lex_vector(\". #perfection\")"
   ]
  },
  {
   "cell_type": "markdown",
   "metadata": {},
   "source": [
    "## Depeche Mood"
   ]
  },
  {
   "cell_type": "code",
   "execution_count": null,
   "metadata": {
    "collapsed": true
   },
   "outputs": [],
   "source": [
    "depeche_mood_file_path = \\\n",
    "    wassa_home + \\\n",
    "    \"lexicons/DepecheMood_V1.0/DepecheMood_normfreq.txt\""
   ]
  },
  {
   "cell_type": "code",
   "execution_count": null,
   "metadata": {
    "collapsed": true
   },
   "outputs": [],
   "source": [
    "def get_depeche_vector_dict():\n",
    "    depeche_vector_dict = dict()\n",
    "    with open(depeche_mood_file_path) as depeche_mood_file:\n",
    "        for line in depeche_mood_file:\n",
    "            word_array = line.replace(\"\\n\", \"\").split(\"\\t\")\n",
    "            depeche_vector_dict[word_array[0].split(\"#\")[0]] = np.array([float(val) for val in word_array[1:]])\n",
    "    \n",
    "    return depeche_vector_dict"
   ]
  },
  {
   "cell_type": "code",
   "execution_count": null,
   "metadata": {
    "collapsed": true
   },
   "outputs": [],
   "source": [
    "depeche_vector_dict = get_depeche_vector_dict()"
   ]
  },
  {
   "cell_type": "code",
   "execution_count": null,
   "metadata": {
    "collapsed": true
   },
   "outputs": [],
   "source": [
    "def get_depeche_mood_vector(word):\n",
    "    \n",
    "    vec_rep = np.zeros(8)\n",
    "    if word in depeche_vector_dict.keys():\n",
    "        vec_rep = np.array(depeche_vector_dict[word])\n",
    "\n",
    "    return non_linear_factor.fit_transform([vec_rep])[0]"
   ]
  },
  {
   "cell_type": "code",
   "execution_count": null,
   "metadata": {
    "collapsed": true
   },
   "outputs": [],
   "source": [
    "# get_depeche_mood_vector(\"120th\")"
   ]
  },
  {
   "cell_type": "markdown",
   "metadata": {},
   "source": [
    "# Reading & Vectorizing Data"
   ]
  },
  {
   "cell_type": "code",
   "execution_count": null,
   "metadata": {
    "collapsed": true
   },
   "outputs": [],
   "source": [
    "#     print(embedding_features.shape)\n",
    "    \n",
    "#     lexicon_features = get_unigram_embedding(word, embedding_info[0], unigram_feature_string)\n",
    "#     poly_lexicon_features = non_linear_factor.fit_transform([lexicon_features])[0]\n",
    "#     print(poly_lexicon_features.shape)\n",
    "\n",
    "#     final_features = np.concatenate((embedding_features, poly_lexicon_features))\n",
    "#     print(final_features.shape)"
   ]
  },
  {
   "cell_type": "code",
   "execution_count": null,
   "metadata": {
    "collapsed": true
   },
   "outputs": [],
   "source": [
    "def is_active_vector_method(string):\n",
    "    return int(string)\n",
    "\n",
    "def learn_unigram_word_embedding(word):\n",
    "    \n",
    "    word_feature_embedding_dict = dict()\n",
    "    \n",
    "    '''Pre-trained Word embeddings'''\n",
    "    index = 0\n",
    "    word_feature_embedding_dict[index] = get_word2vec_embedding(word, wv_model, w2v_dimensions)\n",
    "\n",
    "    index = 1\n",
    "    word_feature_embedding_dict[index] = get_word2vec_embedding(word, wv_model_1, w2v_dimensions_1)\n",
    "\n",
    "    index = 2\n",
    "    word_feature_embedding_dict[index] = get_word2vec_embedding(word, wv_model_2, w2v_dimensions_2)\n",
    "\n",
    "    index = 3\n",
    "    word_feature_embedding_dict[index] = get_word2vec_embedding(word, wv_model_3, w2v_dimensions_3)\n",
    "\n",
    "    index = 4\n",
    "    word_feature_embedding_dict[index] = get_word2vec_embedding(word, wv_model_4, w2v_dimensions_4)\n",
    "\n",
    "    index = 5\n",
    "    word_feature_embedding_dict[index] = get_word2vec_embedding(word, wv_model_5, w2v_dimensions_5)\n",
    "\n",
    "    '''NRC Emotion Intensity Lexicon'''\n",
    "    index = 6\n",
    "    word_feature_embedding_dict[index] = get_emo_int_vector(word)\n",
    "\n",
    "    '''WordNet'''\n",
    "    index = 7\n",
    "    word_feature_embedding_dict[index] = get_sentiwordnetscore(word)\n",
    "\n",
    "    '''NRC Sentiment Lexica'''\n",
    "    index = 8\n",
    "    word_feature_embedding_dict[index] = get_sentiment_emotion_feature(word)\n",
    "\n",
    "    index = 9\n",
    "    word_feature_embedding_dict[index] = get_unigram_sentiment_emoticon_lexicon_vector(word)\n",
    "\n",
    "    index = 10\n",
    "    word_feature_embedding_dict[index] = get_unigram_sentiment_emoticon_afflex_vector(word)\n",
    "\n",
    "    '''NRC Hashtag Lexica'''\n",
    "    index = 11\n",
    "    word_feature_embedding_dict[index] = get_hashtag_emotion_vector(word)\n",
    "\n",
    "    index = 12\n",
    "    word_feature_embedding_dict[index] = get_unigram_sentiment_hash_sent_lex_vector(word)\n",
    "\n",
    "    index = 13\n",
    "    word_feature_embedding_dict[index] = get_unigram_sentiment_hashtag_affneglex_vector(word)\n",
    "\n",
    "    '''Emoji Polarities'''\n",
    "    index = 14\n",
    "    word_feature_embedding_dict[index] = get_emoji_intensity(word)\n",
    "    \n",
    "    '''Depeche Mood'''\n",
    "    index = 15\n",
    "    word_feature_embedding_dict[index] = get_depeche_mood_vector(word)\n",
    "\n",
    "    return word_feature_embedding_dict\n",
    "\n",
    "\n",
    "def learn_bigram_word_embedding(word):\n",
    "    \n",
    "    word_feature_embedding_dict = dict()\n",
    "    \n",
    "    '''NRC Sentiment Lexica'''\n",
    "\n",
    "    index = 0\n",
    "    word_feature_embedding_dict[index] = get_bigram_sentiment_emoticon_lexicon_vector(word)\n",
    "\n",
    "    index = 1\n",
    "    word_feature_embedding_dict[index] = get_bigram_sentiment_emoticon_afflex_vector(word)\n",
    "\n",
    "    '''NRC Hashtag Lexica'''\n",
    "    index = 2\n",
    "    word_feature_embedding_dict[index] = get_bigram_sentiment_hash_sent_lex_vector(word)\n",
    "\n",
    "    index = 3\n",
    "    word_feature_embedding_dict[index] = get_bigram_sentiment_hashtag_affneglex_vector(word)\n",
    "\n",
    "    return word_feature_embedding_dict"
   ]
  },
  {
   "cell_type": "code",
   "execution_count": null,
   "metadata": {
    "collapsed": true
   },
   "outputs": [],
   "source": [
    "def get_unigram_embedding(word, word_embedding_dict, bin_string):\n",
    "    \n",
    "    word_feature_embedding_dict = word_embedding_dict[word]\n",
    "    final_embedding = np.array([])\n",
    "    \n",
    "    for i in range(16):\n",
    "        if is_active_vector_method(bin_string[i]):\n",
    "            final_embedding = np.append(final_embedding, word_feature_embedding_dict[i])\n",
    "    \n",
    "    return final_embedding\n",
    "\n",
    "def get_bigram_embedding(bigram, word_embedding_dict, bin_string):\n",
    "    \n",
    "    word_feature_embedding_dict = word_embedding_dict[word]\n",
    "    final_embedding = np.array([])\n",
    "    \n",
    "    for i in range(4):\n",
    "        if is_active_vector_method(bin_string[i]):\n",
    "            final_embedding = np.append(final_embedding, word_feature_embedding_dict[i])\n",
    "    \n",
    "    return final_embedding"
   ]
  },
  {
   "cell_type": "code",
   "execution_count": null,
   "metadata": {
    "collapsed": true
   },
   "outputs": [],
   "source": [
    "unigram_feature_string = \"1111111111111111\"\n",
    "bigram_feature_string = \"1111\""
   ]
  },
  {
   "cell_type": "code",
   "execution_count": null,
   "metadata": {},
   "outputs": [],
   "source": [
    "training_tweets = read_training_data(training_data_file_path)\n",
    "dev_tweets = read_training_data(dev_set_path)\n",
    "\n",
    "score_train = list()\n",
    "tweet_train = list()\n",
    "for tweet in training_tweets:\n",
    "    tweet_train.append(tweet.text)\n",
    "    score_train.append(float(tweet.intensity))\n",
    "\n",
    "for tweet in dev_tweets:\n",
    "    tweet_train.append(tweet.text)\n",
    "    score_train.append(float(tweet.intensity))\n",
    "    \n",
    "print(len(score_train))\n",
    "score_train = np.asarray(score_train)"
   ]
  },
  {
   "cell_type": "code",
   "execution_count": null,
   "metadata": {},
   "outputs": [],
   "source": [
    "raw_test_tweets = read_training_data_verbatim(test_data_file_path)\n",
    "test_tweets = read_training_data(test_data_file_path)\n",
    "\n",
    "tweet_test_raw = list()\n",
    "tweet_test = list()\n",
    "y_gold = list()\n",
    "\n",
    "for tweet in raw_test_tweets:\n",
    "    tweet_test_raw.append(tweet.text)\n",
    "\n",
    "for tweet in test_tweets:\n",
    "    tweet_test.append(tweet.text)\n",
    "    y_gold.append(float(tweet.intensity))\n",
    "    \n",
    "print(len(y_gold))"
   ]
  },
  {
   "cell_type": "code",
   "execution_count": null,
   "metadata": {
    "collapsed": true
   },
   "outputs": [],
   "source": [
    "def build_word_embeddings(tweets):\n",
    "    \n",
    "    max_tweet_length = -1\n",
    "    word_embedding_dict = dict()\n",
    "\n",
    "    for tweet in tweets:\n",
    "        if len(tweet) > max_tweet_length:\n",
    "            max_tweet_length = len(tweet)\n",
    "\n",
    "        for token in tweet:\n",
    "            if token not in word_embedding_dict.keys():\n",
    "                word_embedding_dict[token] = learn_unigram_word_embedding(token)\n",
    "                \n",
    "    return word_embedding_dict, max_tweet_length"
   ]
  },
  {
   "cell_type": "code",
   "execution_count": null,
   "metadata": {},
   "outputs": [],
   "source": [
    "# all_tweets = tweet_train + tweet_test\n",
    "# embedding_info = build_word_embeddings(all_tweets)"
   ]
  },
  {
   "cell_type": "code",
   "execution_count": null,
   "metadata": {
    "collapsed": true
   },
   "outputs": [],
   "source": [
    "# # Save vectors\n",
    "# with open(word_embeddings_path, 'wb') as word_embeddings_file:\n",
    "#     pickle.dump(embedding_info, word_embeddings_file)"
   ]
  },
  {
   "cell_type": "code",
   "execution_count": null,
   "metadata": {},
   "outputs": [],
   "source": [
    "browser_notify(\"Persisted to disk\")"
   ]
  },
  {
   "cell_type": "code",
   "execution_count": null,
   "metadata": {
    "collapsed": true
   },
   "outputs": [],
   "source": [
    "# Restore vectors\n",
    "with open(word_embeddings_path, 'rb') as word_embeddings_file:\n",
    "    embedding_info = pickle.load(word_embeddings_file)"
   ]
  },
  {
   "cell_type": "code",
   "execution_count": null,
   "metadata": {},
   "outputs": [],
   "source": [
    "embeddings_index = embedding_info[0]\n",
    "MAX_SEQUENCE_LENGTH = embedding_info[1]\n",
    "MAX_NB_WORDS = 20000\n",
    "EMBEDDING_DIM = len(get_unigram_embedding(\"glad\", embedding_info[0], unigram_feature_string))\n",
    "print(MAX_SEQUENCE_LENGTH, EMBEDDING_DIM)"
   ]
  },
  {
   "cell_type": "code",
   "execution_count": null,
   "metadata": {
    "collapsed": true
   },
   "outputs": [],
   "source": [
    "word_indices = dict()\n",
    "current_index = 1"
   ]
  },
  {
   "cell_type": "code",
   "execution_count": null,
   "metadata": {
    "collapsed": true
   },
   "outputs": [],
   "source": [
    "def sequence_tweets(tweets):\n",
    "    global current_index\n",
    "    vectors = list()\n",
    "    for tweet in tweets:        \n",
    "        vector = list()\n",
    "        for word in tweet:\n",
    "            word_index = None\n",
    "            \n",
    "            if word in word_indices:\n",
    "                word_index = word_indices[word]\n",
    "            else:\n",
    "                word_index = current_index\n",
    "                current_index += 1\n",
    "                word_indices[word] = word_index\n",
    "            \n",
    "            vector.append(word_index)\n",
    "        \n",
    "        vectors.append(vector)\n",
    "\n",
    "    return vectors"
   ]
  },
  {
   "cell_type": "code",
   "execution_count": null,
   "metadata": {
    "collapsed": true
   },
   "outputs": [],
   "source": [
    "x_train = sequence_tweets(tweet_train)\n",
    "x_test = sequence_tweets(tweet_test)"
   ]
  },
  {
   "cell_type": "code",
   "execution_count": null,
   "metadata": {},
   "outputs": [],
   "source": [
    "len(word_indices)"
   ]
  },
  {
   "cell_type": "code",
   "execution_count": null,
   "metadata": {},
   "outputs": [],
   "source": [
    "# display(tweet_train)"
   ]
  },
  {
   "cell_type": "code",
   "execution_count": null,
   "metadata": {},
   "outputs": [],
   "source": [
    "word_embedding_matrix = list()\n",
    "word_embedding_matrix.append(np.zeros(EMBEDDING_DIM))\n",
    "\n",
    "for word in sorted(word_indices, key=word_indices.get):\n",
    "    embedding_features = get_unigram_embedding(word, embedding_info[0], unigram_feature_string)    \n",
    "    word_embedding_matrix.append(embedding_features)\n",
    "\n",
    "word_embedding_matrix = np.asarray(word_embedding_matrix, dtype='f')"
   ]
  },
  {
   "cell_type": "code",
   "execution_count": null,
   "metadata": {},
   "outputs": [],
   "source": [
    "word_embedding_matrix.shape"
   ]
  },
  {
   "cell_type": "code",
   "execution_count": null,
   "metadata": {},
   "outputs": [],
   "source": [
    "word_embedding_matrix = scale(word_embedding_matrix)"
   ]
  },
  {
   "cell_type": "code",
   "execution_count": null,
   "metadata": {},
   "outputs": [],
   "source": [
    "browser_notify(\"Vectorization Done\")"
   ]
  },
  {
   "cell_type": "markdown",
   "metadata": {},
   "source": [
    "# Recurrent Neural Network Implementation in Keras"
   ]
  },
  {
   "cell_type": "code",
   "execution_count": null,
   "metadata": {
    "collapsed": true
   },
   "outputs": [],
   "source": [
    "pre_padding = 6\n",
    "\n",
    "x_train = sequence.pad_sequences(x_train, maxlen=MAX_SEQUENCE_LENGTH, padding=\"post\", truncating=\"post\")\n",
    "x_test = sequence.pad_sequences(x_test, maxlen=MAX_SEQUENCE_LENGTH, padding=\"post\", truncating=\"post\")\n",
    "\n",
    "x_train = sequence.pad_sequences(x_train, maxlen=MAX_SEQUENCE_LENGTH + pre_padding, padding=\"pre\")\n",
    "x_test = sequence.pad_sequences(x_test, maxlen=MAX_SEQUENCE_LENGTH + pre_padding, padding=\"pre\")"
   ]
  },
  {
   "cell_type": "code",
   "execution_count": null,
   "metadata": {},
   "outputs": [],
   "source": [
    "len(x_train), len(x_test), len(x_train[0])"
   ]
  },
  {
   "cell_type": "code",
   "execution_count": null,
   "metadata": {
    "collapsed": true
   },
   "outputs": [],
   "source": [
    "embed_1 = Embedding(len(word_indices) + 1, EMBEDDING_DIM, weights=[word_embedding_matrix], \n",
    "                    input_length=MAX_SEQUENCE_LENGTH + pre_padding, trainable=True)\n",
    "\n",
    "conv_1 = Conv1D(128, 3, activation='relu', name='conv1')\n",
    "conv_2 = Conv1D(128, 3, activation='relu', name='conv2')\n",
    "conv_3 = Conv1D(256, 3, activation='relu', name='conv3')\n",
    "conv_4 = Conv1D(256, 3, activation='relu', name='conv4')\n",
    "conv_5 = Conv1D(256, 3, activation='relu', name='conv5')\n",
    "conv_6 = Conv1D(1024, 3, activation='relu', name='conv6')\n",
    "conv_7 = Conv1D(1024, 3, activation='relu', name='conv7')\n",
    "conv_8 = Conv1D(1024, 3, activation='relu', name='conv8')\n",
    "\n",
    "pool_1 = AveragePooling1D(pool_size=3, strides=2, name='pool1')\n",
    "pool_2 = AveragePooling1D(pool_size=3, strides=2, name='pool2')\n",
    "pool_3 = MaxPooling1D(pool_size=3, strides=2, name='pool3')\n",
    "pool_4 = MaxPooling1D(pool_size=3, strides=2, name='pool4')\n",
    "\n",
    "lstm_1 = LSTM(256, dropout=0.2, recurrent_dropout=0.2, name='lstm1', return_sequences=True)\n",
    "lstm_2 = LSTM(128, dropout=0.2, recurrent_dropout=0.2, name='lstm2', return_sequences=True)\n",
    "lstm_3 = LSTM(64, dropout=0.2, recurrent_dropout=0.2, name='lstm3')\n",
    "\n",
    "gru_1 = GRU(256, dropout=0.25, recurrent_dropout=0.25, name='gru1', return_sequences=True)\n",
    "gru_2 = GRU(256, dropout=0.25, recurrent_dropout=0.25, name='gru2', return_sequences=True)\n",
    "gru_3 = GRU(256, dropout=0.25, recurrent_dropout=0.25, name='gru3')\n",
    "\n",
    "bi_lstm_1 = Bidirectional(lstm_1, name='bilstm1')\n",
    "bi_lstm_2 = Bidirectional(lstm_2, name='bilstm2')\n",
    "bi_lstm_3 = Bidirectional(lstm_3, name='bilstm3')\n",
    "\n",
    "dense_1 = Dense(20000, activation='relu', name='dense1')\n",
    "dense_2 = Dense(1, activation='sigmoid', name='dense2')\n",
    "\n",
    "drop_1 = Dropout(0.5, name='drop1')\n",
    "drop_2 = Dropout(0.5, name='drop2')"
   ]
  },
  {
   "cell_type": "code",
   "execution_count": null,
   "metadata": {
    "collapsed": true
   },
   "outputs": [],
   "source": [
    "def get_rnn_model():\n",
    "    \n",
    "    model = Sequential()\n",
    "    \n",
    "    model.add(embed_1)\n",
    "    \n",
    "    model.add(conv_1)\n",
    "    model.add(conv_2)\n",
    "#     model.add(pool_1)\n",
    "    \n",
    "#     model.add(conv_3)\n",
    "#     model.add(conv_4)\n",
    "#     model.add(pool_2)\n",
    "    \n",
    "#     model.add(conv_5)\n",
    "    \n",
    "    model.add(lstm_1)\n",
    "    model.add(lstm_2)\n",
    "    model.add(lstm_3)\n",
    "    \n",
    "    model.add(dense_1)\n",
    "#     model.add(drop_1)\n",
    "    \n",
    "    model.add(dense_2)\n",
    "\n",
    "    model.compile(loss='mean_squared_error', optimizer=\"adam\")\n",
    "    \n",
    "    return model"
   ]
  },
  {
   "cell_type": "code",
   "execution_count": null,
   "metadata": {},
   "outputs": [],
   "source": [
    "nn_model = KerasRegressor(build_fn=get_rnn_model, epochs=50, batch_size=64, verbose=1)\n",
    "\n",
    "score_train = np.asarray(score_train)\n",
    "\n",
    "# ml_model = AdaBoostRegressor(base_estimator=nn_model)\n",
    "\n",
    "nn_model.fit(x_train, score_train) # , epochs=100, batch_size=64, verbose=1)\n",
    "y_pred = nn_model.predict(x_test)"
   ]
  },
  {
   "cell_type": "code",
   "execution_count": null,
   "metadata": {},
   "outputs": [],
   "source": [
    "browser_notify(\"NN Training Done\")"
   ]
  },
  {
   "cell_type": "code",
   "execution_count": null,
   "metadata": {
    "collapsed": true
   },
   "outputs": [],
   "source": [
    "y_pred = np.reshape(y_pred, len(y_pred))"
   ]
  },
  {
   "cell_type": "code",
   "execution_count": null,
   "metadata": {},
   "outputs": [],
   "source": [
    "print(emotion)\n",
    "print(pearsonr(y_pred, y_gold))\n",
    "print(spearmanr(y_pred, y_gold))"
   ]
  },
  {
   "cell_type": "code",
   "execution_count": null,
   "metadata": {
    "collapsed": true
   },
   "outputs": [],
   "source": [
    "# with open(predictions_file_path, 'w') as predictions_file:\n",
    "#     for i in range(len(y_pred)):        \n",
    "#         predictions_file.write(\n",
    "#             str(raw_test_tweets[i].id) + \"\\t\" + \\\n",
    "#             raw_test_tweets[i].text + \"\\t\" + \\\n",
    "#             raw_test_tweets[i].emotion + \"\\t\" + \\\n",
    "#             str(y_pred[i]) + \"\\n\"\n",
    "#         )"
   ]
  },
  {
   "cell_type": "code",
   "execution_count": null,
   "metadata": {},
   "outputs": [],
   "source": [
    "browser_notify(\"Neural Net Trained\")"
   ]
  },
  {
   "cell_type": "markdown",
   "metadata": {},
   "source": [
    "# Analysis"
   ]
  },
  {
   "cell_type": "code",
   "execution_count": null,
   "metadata": {
    "collapsed": true
   },
   "outputs": [],
   "source": [
    "def get_predictions_list(y_pred, y_gold):\n",
    "    predictions = list()\n",
    "    for i in range(len(y_gold)):\n",
    "        prediction = {\n",
    "            \"raw_tweet\": tweet_test_raw[i], \n",
    "            \"cleaned_tweet\": tweet_test[i], \n",
    "            \"prediction\": y_pred[i], \n",
    "            \"actual\": y_gold[i], \n",
    "            \"diff\": (y_gold[i] - y_pred[i])\n",
    "        }\n",
    "        predictions.append(prediction)\n",
    "        \n",
    "    return predictions"
   ]
  },
  {
   "cell_type": "code",
   "execution_count": null,
   "metadata": {
    "collapsed": true
   },
   "outputs": [],
   "source": [
    "predictions = get_predictions_list(y_pred, y_gold)"
   ]
  },
  {
   "cell_type": "code",
   "execution_count": null,
   "metadata": {
    "collapsed": true
   },
   "outputs": [],
   "source": [
    "pred_df = DataFrame(predictions)\n",
    "pred_df = pred_df[[\"raw_tweet\", \"cleaned_tweet\", \"prediction\", \"actual\", \"diff\"]]\n",
    "pred_df = pred_df.sort_values(by=['diff'], ascending=[True])"
   ]
  },
  {
   "cell_type": "code",
   "execution_count": null,
   "metadata": {},
   "outputs": [],
   "source": [
    "display(pred_df)"
   ]
  },
  {
   "cell_type": "code",
   "execution_count": null,
   "metadata": {
    "collapsed": true
   },
   "outputs": [],
   "source": [
    "with open(debug_file_path, 'w') as debug_file:\n",
    "    pred_df.to_csv(debug_file, sep='\\t')"
   ]
  },
  {
   "cell_type": "code",
   "execution_count": null,
   "metadata": {
    "collapsed": true
   },
   "outputs": [],
   "source": []
  }
 ],
 "metadata": {
  "kernelspec": {
   "display_name": "Python 3",
   "language": "python",
   "name": "python3"
  },
  "language_info": {
   "codemirror_mode": {
    "name": "ipython",
    "version": 3
   },
   "file_extension": ".py",
   "mimetype": "text/x-python",
   "name": "python",
   "nbconvert_exporter": "python",
   "pygments_lexer": "ipython3",
   "version": "3.5.2"
  }
 },
 "nbformat": 4,
 "nbformat_minor": 2
}
